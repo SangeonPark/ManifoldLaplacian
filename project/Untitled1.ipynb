{
 "cells": [
  {
   "cell_type": "code",
   "execution_count": 1,
   "id": "b7813027-1a77-4ae4-b62d-d1b982a85348",
   "metadata": {},
   "outputs": [],
   "source": [
    "def double(num):\n",
    "    return num*2"
   ]
  },
  {
   "cell_type": "code",
   "execution_count": 14,
   "id": "8111066c-dfa2-4492-9fb3-e6e901a981e1",
   "metadata": {},
   "outputs": [],
   "source": [
    "class Person(object):\n",
    "    \"\"\"docstring for Person\"\"\"\n",
    "    def __init__(self, name, location):\n",
    "        super(Person, self).__init__()\n",
    "        self.name = name\n",
    "        self.num = 2\n",
    "        self.past_locations = []\n",
    "        self.location = location\n",
    "        \n",
    "\n",
    "    @property\n",
    "    def location(self):\n",
    "        return self._location\n",
    "    \n",
    "    @location.setter\n",
    "    def location(self, location):\n",
    "        self._location = location\n",
    "        self.num = double(self.num)\n",
    "        self.past_locations.append(location)"
   ]
  },
  {
   "cell_type": "code",
   "execution_count": 15,
   "id": "ed422b40-45c0-4809-9498-c094c5123597",
   "metadata": {},
   "outputs": [],
   "source": [
    "a = Person(\"me\", \"seoul\")"
   ]
  },
  {
   "cell_type": "code",
   "execution_count": 16,
   "id": "7e6687b7-76c9-4836-a1c5-a8efaf356c2d",
   "metadata": {},
   "outputs": [
    {
     "data": {
      "text/plain": [
       "'seoul'"
      ]
     },
     "execution_count": 16,
     "metadata": {},
     "output_type": "execute_result"
    }
   ],
   "source": [
    "a.location"
   ]
  },
  {
   "cell_type": "code",
   "execution_count": 17,
   "id": "d150c7d1-e7d2-4506-b780-6ce8abd56460",
   "metadata": {},
   "outputs": [],
   "source": [
    "a.location = 'boston'"
   ]
  },
  {
   "cell_type": "code",
   "execution_count": 18,
   "id": "714ec9ec-2f98-4e76-8df4-637f2116eb6f",
   "metadata": {},
   "outputs": [
    {
     "data": {
      "text/plain": [
       "8"
      ]
     },
     "execution_count": 18,
     "metadata": {},
     "output_type": "execute_result"
    }
   ],
   "source": [
    "a.num"
   ]
  },
  {
   "cell_type": "code",
   "execution_count": null,
   "id": "9ca4f42a-ba1d-4c3a-86d8-2879cc53203f",
   "metadata": {},
   "outputs": [],
   "source": []
  }
 ],
 "metadata": {
  "kernelspec": {
   "display_name": "Python 3 (ipykernel)",
   "language": "python",
   "name": "python3"
  },
  "language_info": {
   "codemirror_mode": {
    "name": "ipython",
    "version": 3
   },
   "file_extension": ".py",
   "mimetype": "text/x-python",
   "name": "python",
   "nbconvert_exporter": "python",
   "pygments_lexer": "ipython3",
   "version": "3.8.12"
  }
 },
 "nbformat": 4,
 "nbformat_minor": 5
}
