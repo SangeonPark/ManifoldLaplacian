{
 "cells": [
  {
   "cell_type": "code",
   "execution_count": 1,
   "id": "e2280e0a-7f36-4cc0-90bb-ed032faf02b4",
   "metadata": {},
   "outputs": [],
   "source": [
    "%load_ext autoreload\n",
    "%autoreload 2"
   ]
  },
  {
   "cell_type": "code",
   "execution_count": 2,
   "id": "ceceaa50-bc96-4097-8bb9-0b2933179d37",
   "metadata": {},
   "outputs": [],
   "source": [
    "import numpy as np\n",
    "import scipy"
   ]
  },
  {
   "cell_type": "code",
   "execution_count": 3,
   "id": "9c2f87ba-7be6-4ec4-a6ec-df7ab800ce73",
   "metadata": {},
   "outputs": [],
   "source": [
    "from local_pca_utils import make_nearest_neighbors_graph, make_tangents, make_connection, make_general_order_laplacian\n",
    "\n",
    "from curvature_utils import make_tangents_and_normals, get_second_fundamental_form"
   ]
  },
  {
   "cell_type": "code",
   "execution_count": 4,
   "id": "9e87050c-da32-4ec8-932b-a7dec1221d0a",
   "metadata": {},
   "outputs": [],
   "source": [
    "from sample_3d_view import sample_sphere, sample_torus, visualize_grid_sphere, visualize_grid_torus"
   ]
  },
  {
   "cell_type": "code",
   "execution_count": 5,
   "id": "a11e1b4a-3622-45fa-a8dd-c3bdad8f4db2",
   "metadata": {},
   "outputs": [],
   "source": [
    "npoints = 1000"
   ]
  },
  {
   "cell_type": "code",
   "execution_count": 6,
   "id": "edbe96af-f91a-41eb-bbdb-5c16f054a428",
   "metadata": {},
   "outputs": [
    {
     "data": {
      "text/plain": [
       "8"
      ]
     },
     "execution_count": 6,
     "metadata": {},
     "output_type": "execute_result"
    }
   ],
   "source": [
    "2**3"
   ]
  },
  {
   "cell_type": "code",
   "execution_count": 7,
   "id": "04ff786e-a166-4609-8590-8337fcb236be",
   "metadata": {},
   "outputs": [],
   "source": [
    "ind_a, ind_b = np.triu_indices(2)"
   ]
  },
  {
   "cell_type": "code",
   "execution_count": 8,
   "id": "d36b9001-717a-46aa-a010-87c3b7b3345e",
   "metadata": {},
   "outputs": [
    {
     "data": {
      "text/plain": [
       "(array([0, 0, 1]), array([0, 1, 1]))"
      ]
     },
     "execution_count": 8,
     "metadata": {},
     "output_type": "execute_result"
    }
   ],
   "source": [
    "ind_a, ind_b"
   ]
  },
  {
   "cell_type": "code",
   "execution_count": null,
   "id": "af577faf-5cc6-4c8f-b5e7-b46b28b2ffb2",
   "metadata": {},
   "outputs": [],
   "source": []
  },
  {
   "cell_type": "code",
   "execution_count": 9,
   "id": "7639fdaa-1a09-471c-a39c-2086369b110d",
   "metadata": {},
   "outputs": [],
   "source": [
    "data_s2 = sample_sphere(npoints)"
   ]
  },
  {
   "cell_type": "code",
   "execution_count": 10,
   "id": "6d2f68d5-3be2-4518-9fbe-fceada150529",
   "metadata": {},
   "outputs": [
    {
     "name": "stderr",
     "output_type": "stream",
     "text": [
      "100%|██████████| 1/1 [00:00<00:00,  5.76it/s]\n",
      "100%|██████████| 1000/1000 [00:00<00:00, 18228.02it/s]\n"
     ]
    }
   ],
   "source": [
    "s2_graph = make_nearest_neighbors_graph(data_s2, 7, n=npoints)"
   ]
  },
  {
   "cell_type": "code",
   "execution_count": 11,
   "id": "d6e4e5b3-6fbb-44e9-a090-67df080fea4b",
   "metadata": {},
   "outputs": [
    {
     "name": "stderr",
     "output_type": "stream",
     "text": [
      "100%|██████████| 1000/1000 [00:00<00:00, 14237.57it/s]\n"
     ]
    }
   ],
   "source": [
    "tangents = make_tangents(data_s2, s2_graph, 2)"
   ]
  },
  {
   "cell_type": "code",
   "execution_count": 12,
   "id": "9a37aef7-cecd-47a1-91bc-bdd8680f30ba",
   "metadata": {},
   "outputs": [
    {
     "name": "stderr",
     "output_type": "stream",
     "text": [
      "100%|██████████| 1000/1000 [00:00<00:00, 6658.49it/s]\n"
     ]
    }
   ],
   "source": [
    "connection = make_connection(tangents, s2_graph)"
   ]
  },
  {
   "cell_type": "code",
   "execution_count": 13,
   "id": "28f7e8ae-0926-45d2-a058-66cfb7486b4d",
   "metadata": {},
   "outputs": [
    {
     "data": {
      "text/plain": [
       "<1000x1000 sparse matrix of type '<class 'numpy.float64'>'\n",
       "\twith 8166 stored elements in List of Lists format>"
      ]
     },
     "execution_count": 13,
     "metadata": {},
     "output_type": "execute_result"
    }
   ],
   "source": [
    "s2_graph"
   ]
  },
  {
   "cell_type": "code",
   "execution_count": 14,
   "id": "a5bd0ae3-ffad-400a-9b3d-2c9d3c2463e4",
   "metadata": {},
   "outputs": [
    {
     "name": "stderr",
     "output_type": "stream",
     "text": [
      "100%|██████████| 1000/1000 [00:00<00:00, 1337.34it/s]\n"
     ]
    }
   ],
   "source": [
    "s_3rd_order_laplacian = make_general_order_laplacian(connection, s2_graph,3, sym=False, zero_trace=False)"
   ]
  },
  {
   "cell_type": "code",
   "execution_count": 17,
   "id": "71c30e95-6bf3-4f6b-aa22-ff313f79ff83",
   "metadata": {},
   "outputs": [],
   "source": [
    "eigvals, eigvecs = scipy.sparse.linalg.eigsh(s_3rd_order_laplacian, k=100, which='SM')"
   ]
  },
  {
   "cell_type": "code",
   "execution_count": 18,
   "id": "13ce76b0-b238-4e7d-b82d-1104229389c0",
   "metadata": {},
   "outputs": [
    {
     "data": {
      "text/plain": [
       "array([0.0265309 , 0.02653098, 0.02653132, 0.02653136, 0.02653192,\n",
       "       0.02653257, 0.02830823, 0.02830881, 0.02830976, 0.02831024,\n",
       "       0.02831147, 0.02831289, 0.02967744, 0.0296788 , 0.0296796 ,\n",
       "       0.02967968, 0.02968016, 0.02968088, 0.07283325, 0.07283363,\n",
       "       0.0743812 , 0.07438163, 0.07849532, 0.07849773, 0.08021204,\n",
       "       0.08021469, 0.08629543, 0.08629563, 0.09018088, 0.09018125,\n",
       "       0.09394271, 0.09394285, 0.12153068, 0.12153102, 0.1215313 ,\n",
       "       0.12153139, 0.12153167, 0.12153174, 0.12696056, 0.12696283,\n",
       "       0.12696344, 0.12696347, 0.12696373, 0.12696546, 0.13764875,\n",
       "       0.13764922, 0.13764925, 0.13764937, 0.1376498 , 0.13765065,\n",
       "       0.14579083, 0.14579104, 0.14579132, 0.14579195, 0.1457922 ,\n",
       "       0.14579318, 0.15344913, 0.15344925, 0.15344964, 0.15344979,\n",
       "       0.15345024, 0.15345058, 0.24188296, 0.2418831 , 0.24188381,\n",
       "       0.24188444, 0.24188451, 0.24188453, 0.24350706, 0.24350804,\n",
       "       0.24904117, 0.24904217, 0.25861368, 0.2586146 , 0.26838875,\n",
       "       0.26838988, 0.26839045, 0.26839122, 0.26839164, 0.2683933 ,\n",
       "       0.2696649 , 0.2696661 , 0.2792254 , 0.27922678, 0.279227  ,\n",
       "       0.27922708, 0.27922788, 0.27922916, 0.2877318 , 0.28773218,\n",
       "       0.28773227, 0.28773278, 0.28773302, 0.28773406, 0.29201484,\n",
       "       0.292015  , 0.29797536, 0.29797596, 0.297976  , 0.2979761 ],\n",
       "      dtype=float32)"
      ]
     },
     "execution_count": 18,
     "metadata": {},
     "output_type": "execute_result"
    }
   ],
   "source": [
    "eigvals"
   ]
  },
  {
   "cell_type": "code",
   "execution_count": null,
   "id": "27a4d526-99a8-4221-b011-46d83974905c",
   "metadata": {},
   "outputs": [],
   "source": []
  },
  {
   "cell_type": "code",
   "execution_count": null,
   "id": "eeafabd0-8622-4c9f-acc2-0e7d5a2c4821",
   "metadata": {},
   "outputs": [],
   "source": []
  },
  {
   "cell_type": "code",
   "execution_count": null,
   "id": "8366538a-b9b8-4ed8-85ba-2e4686f4158a",
   "metadata": {},
   "outputs": [],
   "source": []
  },
  {
   "cell_type": "code",
   "execution_count": null,
   "id": "b7e96b20-28a9-448f-80e5-6c0bbcf0b002",
   "metadata": {},
   "outputs": [],
   "source": [
    "connection"
   ]
  },
  {
   "cell_type": "code",
   "execution_count": null,
   "id": "3fad7057-78d9-4369-8012-a6325dc97cc0",
   "metadata": {},
   "outputs": [],
   "source": [
    "connection[(1,1)]"
   ]
  },
  {
   "cell_type": "code",
   "execution_count": null,
   "id": "5c9d9e7c-db5f-4c05-ad7e-57e0174250c8",
   "metadata": {},
   "outputs": [],
   "source": [
    "list(connection.values())[0].shape[0]"
   ]
  },
  {
   "cell_type": "code",
   "execution_count": null,
   "id": "0c02fcf1-4674-448d-a97c-daba7d877415",
   "metadata": {},
   "outputs": [],
   "source": [
    "list(connection.values())[0]"
   ]
  },
  {
   "cell_type": "code",
   "execution_count": null,
   "id": "4f3e2acf-48ae-4295-b4e4-2d05721a3e48",
   "metadata": {},
   "outputs": [],
   "source": [
    "s2_graph.nnz"
   ]
  },
  {
   "cell_type": "code",
   "execution_count": null,
   "id": "5e726689-f49a-4714-bafd-1e82980035a1",
   "metadata": {},
   "outputs": [],
   "source": []
  },
  {
   "cell_type": "code",
   "execution_count": 9,
   "id": "5ffd4a8e-1422-4107-a08b-c75a950fb6b0",
   "metadata": {},
   "outputs": [],
   "source": [
    "A = np.arange(0,9).reshape(3,3)"
   ]
  },
  {
   "cell_type": "code",
   "execution_count": 10,
   "id": "cecec689-a3d7-4b2a-8f7e-7fa2eb85938b",
   "metadata": {},
   "outputs": [],
   "source": [
    "#A = A.T @ A"
   ]
  },
  {
   "cell_type": "code",
   "execution_count": 11,
   "id": "33d9af66-0bc8-42b1-b401-577472248bae",
   "metadata": {},
   "outputs": [
    {
     "data": {
      "text/plain": [
       "array([[0, 1, 2],\n",
       "       [3, 4, 5],\n",
       "       [6, 7, 8]])"
      ]
     },
     "execution_count": 11,
     "metadata": {},
     "output_type": "execute_result"
    }
   ],
   "source": [
    "A"
   ]
  },
  {
   "cell_type": "code",
   "execution_count": 12,
   "id": "db5e8948-74de-485e-9331-3d6f2429a142",
   "metadata": {},
   "outputs": [
    {
     "data": {
      "text/plain": [
       "array([[  0,   0,   0,   0,   0,   0,   0,   0,   0,   0,   0,   0,   0,\n",
       "          1,   2,   0,   2,   4,   0,   0,   0,   0,   2,   4,   0,   4,\n",
       "          8],\n",
       "       [  0,   0,   0,   0,   0,   0,   0,   0,   0,   0,   0,   0,   3,\n",
       "          4,   5,   6,   8,  10,   0,   0,   0,   6,   8,  10,  12,  16,\n",
       "         20],\n",
       "       [  0,   0,   0,   0,   0,   0,   0,   0,   0,   0,   0,   0,   6,\n",
       "          7,   8,  12,  14,  16,   0,   0,   0,  12,  14,  16,  24,  28,\n",
       "         32],\n",
       "       [  0,   0,   0,   0,   0,   0,   0,   0,   0,   0,   3,   6,   0,\n",
       "          4,   8,   0,   5,  10,   0,   6,  12,   0,   8,  16,   0,  10,\n",
       "         20],\n",
       "       [  0,   0,   0,   0,   0,   0,   0,   0,   0,   9,  12,  15,  12,\n",
       "         16,  20,  15,  20,  25,  18,  24,  30,  24,  32,  40,  30,  40,\n",
       "         50],\n",
       "       [  0,   0,   0,   0,   0,   0,   0,   0,   0,  18,  21,  24,  24,\n",
       "         28,  32,  30,  35,  40,  36,  42,  48,  48,  56,  64,  60,  70,\n",
       "         80],\n",
       "       [  0,   0,   0,   0,   0,   0,   0,   0,   0,   0,   6,  12,   0,\n",
       "          7,  14,   0,   8,  16,   0,  12,  24,   0,  14,  28,   0,  16,\n",
       "         32],\n",
       "       [  0,   0,   0,   0,   0,   0,   0,   0,   0,  18,  24,  30,  21,\n",
       "         28,  35,  24,  32,  40,  36,  48,  60,  42,  56,  70,  48,  64,\n",
       "         80],\n",
       "       [  0,   0,   0,   0,   0,   0,   0,   0,   0,  36,  42,  48,  42,\n",
       "         49,  56,  48,  56,  64,  72,  84,  96,  84,  98, 112,  96, 112,\n",
       "        128],\n",
       "       [  0,   0,   0,   0,   3,   6,   0,   6,  12,   0,   0,   0,   0,\n",
       "          4,   8,   0,   8,  16,   0,   0,   0,   0,   5,  10,   0,  10,\n",
       "         20],\n",
       "       [  0,   0,   0,   9,  12,  15,  18,  24,  30,   0,   0,   0,  12,\n",
       "         16,  20,  24,  32,  40,   0,   0,   0,  15,  20,  25,  30,  40,\n",
       "         50],\n",
       "       [  0,   0,   0,  18,  21,  24,  36,  42,  48,   0,   0,   0,  24,\n",
       "         28,  32,  48,  56,  64,   0,   0,   0,  30,  35,  40,  60,  70,\n",
       "         80],\n",
       "       [  0,   9,  18,   0,  12,  24,   0,  15,  30,   0,  12,  24,   0,\n",
       "         16,  32,   0,  20,  40,   0,  15,  30,   0,  20,  40,   0,  25,\n",
       "         50],\n",
       "       [ 27,  36,  45,  36,  48,  60,  45,  60,  75,  36,  48,  60,  48,\n",
       "         64,  80,  60,  80, 100,  45,  60,  75,  60,  80, 100,  75, 100,\n",
       "        125],\n",
       "       [ 54,  63,  72,  72,  84,  96,  90, 105, 120,  72,  84,  96,  96,\n",
       "        112, 128, 120, 140, 160,  90, 105, 120, 120, 140, 160, 150, 175,\n",
       "        200],\n",
       "       [  0,  18,  36,   0,  21,  42,   0,  24,  48,   0,  24,  48,   0,\n",
       "         28,  56,   0,  32,  64,   0,  30,  60,   0,  35,  70,   0,  40,\n",
       "         80],\n",
       "       [ 54,  72,  90,  63,  84, 105,  72,  96, 120,  72,  96, 120,  84,\n",
       "        112, 140,  96, 128, 160,  90, 120, 150, 105, 140, 175, 120, 160,\n",
       "        200],\n",
       "       [108, 126, 144, 126, 147, 168, 144, 168, 192, 144, 168, 192, 168,\n",
       "        196, 224, 192, 224, 256, 180, 210, 240, 210, 245, 280, 240, 280,\n",
       "        320],\n",
       "       [  0,   0,   0,   0,   6,  12,   0,  12,  24,   0,   0,   0,   0,\n",
       "          7,  14,   0,  14,  28,   0,   0,   0,   0,   8,  16,   0,  16,\n",
       "         32],\n",
       "       [  0,   0,   0,  18,  24,  30,  36,  48,  60,   0,   0,   0,  21,\n",
       "         28,  35,  42,  56,  70,   0,   0,   0,  24,  32,  40,  48,  64,\n",
       "         80],\n",
       "       [  0,   0,   0,  36,  42,  48,  72,  84,  96,   0,   0,   0,  42,\n",
       "         49,  56,  84,  98, 112,   0,   0,   0,  48,  56,  64,  96, 112,\n",
       "        128],\n",
       "       [  0,  18,  36,   0,  24,  48,   0,  30,  60,   0,  21,  42,   0,\n",
       "         28,  56,   0,  35,  70,   0,  24,  48,   0,  32,  64,   0,  40,\n",
       "         80],\n",
       "       [ 54,  72,  90,  72,  96, 120,  90, 120, 150,  63,  84, 105,  84,\n",
       "        112, 140, 105, 140, 175,  72,  96, 120,  96, 128, 160, 120, 160,\n",
       "        200],\n",
       "       [108, 126, 144, 144, 168, 192, 180, 210, 240, 126, 147, 168, 168,\n",
       "        196, 224, 210, 245, 280, 144, 168, 192, 192, 224, 256, 240, 280,\n",
       "        320],\n",
       "       [  0,  36,  72,   0,  42,  84,   0,  48,  96,   0,  42,  84,   0,\n",
       "         49,  98,   0,  56, 112,   0,  48,  96,   0,  56, 112,   0,  64,\n",
       "        128],\n",
       "       [108, 144, 180, 126, 168, 210, 144, 192, 240, 126, 168, 210, 147,\n",
       "        196, 245, 168, 224, 280, 144, 192, 240, 168, 224, 280, 192, 256,\n",
       "        320],\n",
       "       [216, 252, 288, 252, 294, 336, 288, 336, 384, 252, 294, 336, 294,\n",
       "        343, 392, 336, 392, 448, 288, 336, 384, 336, 392, 448, 384, 448,\n",
       "        512]])"
      ]
     },
     "execution_count": 12,
     "metadata": {},
     "output_type": "execute_result"
    }
   ],
   "source": [
    "np.kron(np.kron(A, A),A)"
   ]
  },
  {
   "cell_type": "code",
   "execution_count": 13,
   "id": "7680c6e2-c11a-4c4d-8d76-0d1630b666fd",
   "metadata": {},
   "outputs": [],
   "source": [
    "AoA = np.einsum('ik,jl', A, A)"
   ]
  },
  {
   "cell_type": "code",
   "execution_count": null,
   "id": "f38285d8-3f64-4944-babc-9b1b2dccfe03",
   "metadata": {},
   "outputs": [],
   "source": [
    "AoA = AoA.reshape(9,9)"
   ]
  },
  {
   "cell_type": "code",
   "execution_count": null,
   "id": "803e471b-d6c5-4947-bf2b-cd0b982b6238",
   "metadata": {},
   "outputs": [],
   "source": [
    "A3 = np.einsum('ik,jl', AoA, A)"
   ]
  },
  {
   "cell_type": "code",
   "execution_count": null,
   "id": "a67cc149-743d-42f6-9441-3e840ea584ab",
   "metadata": {},
   "outputs": [],
   "source": [
    "A3.reshape(27,27)"
   ]
  },
  {
   "cell_type": "code",
   "execution_count": null,
   "id": "c6741b87-4320-4a0a-b15a-a916b218b523",
   "metadata": {},
   "outputs": [],
   "source": []
  }
 ],
 "metadata": {
  "kernelspec": {
   "display_name": "Python 3 (ipykernel)",
   "language": "python",
   "name": "python3"
  },
  "language_info": {
   "codemirror_mode": {
    "name": "ipython",
    "version": 3
   },
   "file_extension": ".py",
   "mimetype": "text/x-python",
   "name": "python",
   "nbconvert_exporter": "python",
   "pygments_lexer": "ipython3",
   "version": "3.8.12"
  }
 },
 "nbformat": 4,
 "nbformat_minor": 5
}
